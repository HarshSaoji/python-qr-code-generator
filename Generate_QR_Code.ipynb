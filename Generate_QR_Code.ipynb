{
 "cells": [
  {
   "cell_type": "markdown",
   "id": "c0cc0165-1b85-4414-b648-a9624dd4e99e",
   "metadata": {},
   "source": [
    "## Python Program to Generate QR Code"
   ]
  },
  {
   "cell_type": "code",
   "execution_count": 1,
   "id": "f13f5ac0-5eb4-4aad-9679-c54a8aff36e9",
   "metadata": {},
   "outputs": [
    {
     "name": "stdout",
     "output_type": "stream",
     "text": [
      "Requirement already satisfied: pyqrcode in c:\\users\\lenovo\\anaconda3\\lib\\site-packages (1.2.1)\n",
      "Requirement already satisfied: pypng in c:\\users\\lenovo\\anaconda3\\lib\\site-packages (0.20220715.0)\n"
     ]
    }
   ],
   "source": [
    "!pip install pyqrcode pypng"
   ]
  },
  {
   "cell_type": "code",
   "execution_count": 3,
   "id": "c5e250d4-3f43-4666-946d-41be39e7f97f",
   "metadata": {},
   "outputs": [],
   "source": [
    "'''\n",
    "Python Program to Generate QR Code\n",
    "'''\n",
    "\n",
    "# Import the necessary module!\n",
    "import pyqrcode\n",
    "\n",
    "# Define the data:\n",
    "# We need some text that we want to convert as our QR Code. \n",
    "# Since I am creating the QR Code for my github profile, \n",
    "# I will \"https://github.com/HarshSaoji\" as data here. Let's store inside a variable.\n",
    "data = \"https://github.com/HarshSaoji\"\n",
    "\n",
    "# Create qrcode:\n",
    "# Now that we have the data with us, we can move forward and \n",
    "# make use of the package we just imported. Let's create an variable.\n",
    "# We will use the create method (as it results in a cleaner looking code) on data.\n",
    "qr = pyqrcode.create(data)\n",
    "\n",
    "# Save the qrcode in png format with proper scaling:\n",
    "# Now let's store it in .png format with proper scaling.\n",
    "qr.png(\"HarshGitHubQR.png\", scale= 9)"
   ]
  },
  {
   "cell_type": "code",
   "execution_count": null,
   "id": "4891ee97-370d-4f1c-9aa3-05f4a2a62fa6",
   "metadata": {},
   "outputs": [],
   "source": []
  },
  {
   "cell_type": "code",
   "execution_count": null,
   "id": "a29f53f3-16ca-42d0-b524-5ecd2a7ced32",
   "metadata": {},
   "outputs": [],
   "source": []
  }
 ],
 "metadata": {
  "kernelspec": {
   "display_name": "Python 3 (ipykernel)",
   "language": "python",
   "name": "python3"
  },
  "language_info": {
   "codemirror_mode": {
    "name": "ipython",
    "version": 3
   },
   "file_extension": ".py",
   "mimetype": "text/x-python",
   "name": "python",
   "nbconvert_exporter": "python",
   "pygments_lexer": "ipython3",
   "version": "3.11.7"
  }
 },
 "nbformat": 4,
 "nbformat_minor": 5
}
